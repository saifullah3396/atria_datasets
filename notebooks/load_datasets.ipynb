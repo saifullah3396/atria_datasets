{
 "cells": [
  {
   "cell_type": "code",
   "execution_count": 1,
   "id": "d6a95391",
   "metadata": {},
   "outputs": [],
   "source": [
    "%load_ext autoreload\n",
    "%autoreload 2"
   ]
  },
  {
   "cell_type": "code",
   "execution_count": 2,
   "id": "492f968f",
   "metadata": {},
   "outputs": [
    {
     "name": "stdout",
     "output_type": "stream",
     "text": [
      "    - wild_receipts\n",
      "    - sroie\n",
      "    - funsd\n",
      "    - icdar2013\n",
      "    - docbank\n",
      "    - cord\n",
      "    - fintabnet\n",
      "    - pubtables1m\n",
      "    - cifar10\n",
      "    - funsd/default\n",
      "    - docile/lir\n",
      "    - docile/default\n",
      "    - docile/lir_synthetic\n",
      "    - docile/kile\n",
      "    - docile/kile_synthetic\n",
      "    - icdar2013/default\n",
      "    - cord/default\n",
      "    - huggingface_cifar10/plain_text\n",
      "    - huggingface_cifar10/plain_text_1k\n",
      "    - huggingface_cifar10/default\n",
      "    - rvlcdip/default\n",
      "    - rvlcdip/image_with_ocr_1k\n",
      "    - rvlcdip/image_with_ocr\n",
      "    - rvlcdip/image\n",
      "    - tobacco3482/image_only\n",
      "    - tobacco3482/default\n",
      "    - tobacco3482/image_with_ocr\n",
      "    - cifar10/1k\n",
      "    - cifar10/default\n",
      "    - pubtables1m/detection_1k\n",
      "    - pubtables1m/structure_1k\n",
      "    - pubtables1m/default\n",
      "    - wild_receipts/default\n",
      "    - docvqa/default\n",
      "    - doclaynet/2022.08\n",
      "    - doclaynet/default\n",
      "    - icdar2019/trackA_archival\n",
      "    - icdar2019/trackA_modern\n",
      "    - icdar2019/default\n",
      "    - fintabnet/1k\n",
      "    - fintabnet/default\n",
      "    - mnist/default\n",
      "    - mnist/mnist_1k\n",
      "    - mnist/mnist\n",
      "    - docbank/1k\n",
      "    - docbank/default\n",
      "    - sroie/default\n",
      "    - publaynet/default\n",
      "\n"
     ]
    }
   ],
   "source": [
    "from atria_datasets import DATASET\n",
    "\n",
    "print(DATASET.list_available_configs())"
   ]
  },
  {
   "cell_type": "code",
   "execution_count": null,
   "id": "545427b6",
   "metadata": {},
   "outputs": [
    {
     "name": "stderr",
     "output_type": "stream",
     "text": [
      "[2025-07-24 09:27:13][atria_datasets.core.dataset.atria_dataset][INFO] Loading dataset cifar10 from registry.\n"
     ]
    },
    {
     "name": "stderr",
     "output_type": "stream",
     "text": [
      "[2025-07-24 09:27:13][atria_datasets.core.dataset.atria_dataset][WARNING] No data_dir provided. Using default cache directory:\n",
      "/media/aletheia/a865e985-032a-4793-9899-2063093eac27/home/ataraxia/.atria/datasets/cifar10\n",
      "[2025-07-24 09:27:13][atria_datasets.core.dataset.atria_dataset][INFO] Setting dataset storage directory: /media/aletheia/a865e985-032a-4793-9899-2063093eac27/home/ataraxia/.atria/datasets/cifar10/storage\n",
      "[2025-07-24 09:27:13][atria_datasets.core.dataset.atria_dataset][WARNING] Overwriting existing cached split train\n",
      "[2025-07-24 09:27:13][atria_datasets.core.storage.deltalake_storage_manager][INFO] Purging dataset split train from storage /media/aletheia/a865e985-032a-4793-9899-2063093eac27/home/ataraxia/.atria/datasets/cifar10/storage/default-65ba7bbc/delta/train.\n"
     ]
    },
    {
     "name": "stdout",
     "output_type": "stream",
     "text": [
      "Files already downloaded and verified\n",
      "Files already downloaded and verified\n"
     ]
    },
    {
     "name": "stderr",
     "output_type": "stream",
     "text": [
      "[2025-07-24 09:27:16][atria_datasets.core.dataset.atria_dataset][INFO] Caching split [train] to /media/aletheia/a865e985-032a-4793-9899-2063093eac27/home/ataraxia/.atria/datasets/cifar10/storage\n",
      "[2025-07-24 09:27:17][atria_datasets.core.storage.deltalake_storage_manager][INFO] Preprocessing dataset split train to cached deltalake storage /media/aletheia/a865e985-032a-4793-9899-2063093eac27/home/ataraxia/.atria/datasets/cifar10/storage/default-65ba7bbc/delta/train\n",
      "Writing to Deltalake:   0%|          | 0/50000 [00:00<?, ?rows/s][2025-07-24 09:27:17][atria_datasets.core.storage.deltalake_storage_manager][INFO] Setting write batch size to 3030303 based on max memory 1000 MB\n",
      "Writing to Deltalake: 100%|██████████| 50000/50000 [00:05<00:00, 9504.50rows/s] \n",
      "[2025-07-24 09:27:23][atria_datasets.core.storage.deltalake_storage_manager][INFO] Writing batch of size 50000 to storage.\n",
      "\u001b[90m[\u001b[0m2025-07-24T07:27:24Z \u001b[33mWARN \u001b[0m deltalake_core::writer::stats\u001b[90m]\u001b[0m Skipping column image_content because it's a binary field.\n",
      "[2025-07-24 09:27:24][atria_datasets.core.dataset.atria_dataset][INFO] Saving dataset configuration to /media/aletheia/a865e985-032a-4793-9899-2063093eac27/home/ataraxia/.atria/datasets/cifar10/storage/conf/dataset/default-65ba7bbc.yaml\n",
      "[2025-07-24 09:27:24][atria_datasets.core.dataset.atria_dataset][INFO] Saving dataset metadata to /media/aletheia/a865e985-032a-4793-9899-2063093eac27/home/ataraxia/.atria/datasets/cifar10/storage/metadata.yaml\n",
      "[2025-07-24 09:27:24][atria_datasets.core.dataset.atria_dataset][WARNING] Overwriting existing cached split test\n",
      "[2025-07-24 09:27:24][atria_datasets.core.storage.deltalake_storage_manager][INFO] Purging dataset split test from storage /media/aletheia/a865e985-032a-4793-9899-2063093eac27/home/ataraxia/.atria/datasets/cifar10/storage/default-65ba7bbc/delta/test.\n",
      "[2025-07-24 09:27:24][atria_datasets.core.dataset.atria_dataset][INFO] Caching split [test] to /media/aletheia/a865e985-032a-4793-9899-2063093eac27/home/ataraxia/.atria/datasets/cifar10/storage\n",
      "[2025-07-24 09:27:24][atria_datasets.core.storage.deltalake_storage_manager][INFO] Preprocessing dataset split test to cached deltalake storage /media/aletheia/a865e985-032a-4793-9899-2063093eac27/home/ataraxia/.atria/datasets/cifar10/storage/default-65ba7bbc/delta/test\n",
      "Writing to Deltalake:   0%|          | 0/10000 [00:00<?, ?rows/s][2025-07-24 09:27:24][atria_datasets.core.storage.deltalake_storage_manager][INFO] Setting write batch size to 3039513 based on max memory 1000 MB\n",
      "Writing to Deltalake: 100%|██████████| 10000/10000 [00:01<00:00, 9046.64rows/s]\n",
      "[2025-07-24 09:27:26][atria_datasets.core.storage.deltalake_storage_manager][INFO] Writing batch of size 10000 to storage.\n",
      "\u001b[90m[\u001b[0m2025-07-24T07:27:26Z \u001b[33mWARN \u001b[0m deltalake_core::writer::stats\u001b[90m]\u001b[0m Skipping column image_content because it's a binary field.\n",
      "[2025-07-24 09:27:26][atria_datasets.core.dataset.atria_dataset][INFO] Saving dataset configuration to /media/aletheia/a865e985-032a-4793-9899-2063093eac27/home/ataraxia/.atria/datasets/cifar10/storage/conf/dataset/default-65ba7bbc.yaml\n",
      "[2025-07-24 09:27:26][atria_datasets.core.dataset.atria_dataset][INFO] Saving dataset metadata to /media/aletheia/a865e985-032a-4793-9899-2063093eac27/home/ataraxia/.atria/datasets/cifar10/storage/metadata.yaml\n"
     ]
    }
   ],
   "source": [
    "from atria_datasets import AtriaDataset\n",
    "from atria_datasets.core.dataset.atria_dataset import DatasetLoadingMode\n",
    "\n",
    "dataset = AtriaDataset.load_from_registry(\n",
    "    name=\"cifar10\", overwrite_existing_cached=True\n",
    ")"
   ]
  },
  {
   "cell_type": "code",
   "execution_count": 6,
   "id": "7735d8ca",
   "metadata": {},
   "outputs": [
    {
     "name": "stdout",
     "output_type": "stream",
     "text": [
      "ImageInstance(\n",
      "    index=0,\n",
      "    sample_id='52abe5d8-9c56-4036-92ec-d326f1100c0e',\n",
      "    image=Image(\n",
      "        file_path='/media/aletheia/a865e985-032a-4793-9899-2063093eac27/home/ataraxia/.atria/datasets/cifar10/storage/default-65ba7bbc/shards/train'+42,\n",
      "        source_width=32,\n",
      "        source_height=32\n",
      "    ),\n",
      "    gt=GroundTruth(\n",
      "        classification=ClassificationGT(label=Label(value=6, name='frog'))\n",
      "    )\n",
      ")\n"
     ]
    }
   ],
   "source": [
    "for sample in dataset.train:\n",
    "    print(sample)\n",
    "    break "
   ]
  }
 ],
 "metadata": {
  "kernelspec": {
   "display_name": "atria-datasets",
   "language": "python",
   "name": "python3"
  },
  "language_info": {
   "codemirror_mode": {
    "name": "ipython",
    "version": 3
   },
   "file_extension": ".py",
   "mimetype": "text/x-python",
   "name": "python",
   "nbconvert_exporter": "python",
   "pygments_lexer": "ipython3",
   "version": "3.11.12"
  }
 },
 "nbformat": 4,
 "nbformat_minor": 5
}
