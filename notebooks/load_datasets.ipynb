{
 "cells": [
  {
   "cell_type": "code",
   "execution_count": 1,
   "id": "d6a95391",
   "metadata": {},
   "outputs": [],
   "source": [
    "%load_ext autoreload\n",
    "%autoreload 2"
   ]
  },
  {
   "cell_type": "code",
   "execution_count": 2,
   "id": "492f968f",
   "metadata": {},
   "outputs": [
    {
     "name": "stdout",
     "output_type": "stream",
     "text": [
      "    - wild_receipts\n",
      "    - sroie\n",
      "    - funsd\n",
      "    - icdar2013\n",
      "    - docbank\n",
      "    - cord\n",
      "    - fintabnet\n",
      "    - pubtables1m\n",
      "    - cifar10\n",
      "    - funsd/default\n",
      "    - docile/lir\n",
      "    - docile/default\n",
      "    - docile/lir_synthetic\n",
      "    - docile/kile\n",
      "    - docile/kile_synthetic\n",
      "    - icdar2013/default\n",
      "    - cord/default\n",
      "    - huggingface_cifar10/plain_text\n",
      "    - huggingface_cifar10/plain_text_1k\n",
      "    - huggingface_cifar10/default\n",
      "    - rvlcdip/default\n",
      "    - rvlcdip/image_with_ocr_1k\n",
      "    - rvlcdip/image_with_ocr\n",
      "    - rvlcdip/image\n",
      "    - tobacco3482/image_only\n",
      "    - tobacco3482/default\n",
      "    - tobacco3482/image_with_ocr\n",
      "    - cifar10/1k\n",
      "    - cifar10/default\n",
      "    - pubtables1m/detection_1k\n",
      "    - pubtables1m/structure_1k\n",
      "    - pubtables1m/default\n",
      "    - wild_receipts/default\n",
      "    - docvqa/default\n",
      "    - doclaynet/2022.08\n",
      "    - doclaynet/default\n",
      "    - icdar2019/trackA_archival\n",
      "    - icdar2019/trackA_modern\n",
      "    - icdar2019/default\n",
      "    - fintabnet/1k\n",
      "    - fintabnet/default\n",
      "    - mnist/default\n",
      "    - mnist/mnist_1k\n",
      "    - mnist/mnist\n",
      "    - docbank/1k\n",
      "    - docbank/default\n",
      "    - sroie/default\n",
      "    - publaynet/default\n",
      "\n"
     ]
    }
   ],
   "source": [
    "from atria_datasets import DATASET\n",
    "\n",
    "print(DATASET.list_available_configs())"
   ]
  },
  {
   "cell_type": "code",
   "execution_count": 4,
   "id": "545427b6",
   "metadata": {},
   "outputs": [
    {
     "name": "stderr",
     "output_type": "stream",
     "text": [
      "[2025-07-23 10:02:23][atria_datasets.core.dataset.atria_dataset][INFO] Loading dataset cifar10 from registry.\n"
     ]
    },
    {
     "name": "stdout",
     "output_type": "stream",
     "text": [
      "Files already downloaded and verified\n",
      "Files already downloaded and verified\n"
     ]
    },
    {
     "name": "stderr",
     "output_type": "stream",
     "text": [
      "[2025-07-23 10:02:26][atria_datasets.core.dataset.atria_dataset][INFO] Caching split [train] to /mnt/hephaistos/.atria/datasets/cifar10/storage\n",
      "[2025-07-23 10:02:27][atria_datasets.core.storage.deltalake_storage_manager][INFO] Preprocessing dataset split train to cached deltalake storage /mnt/hephaistos/.atria/datasets/cifar10/storage/default/delta/train\n",
      "Writing to Deltalake: 100%|██████████| 50000/50000 [00:24<00:00, 2077.12rows/s]\n",
      "\u001b[90m[\u001b[0m2025-07-23T08:02:53Z \u001b[33mWARN \u001b[0m deltalake_core::writer::stats\u001b[90m]\u001b[0m Skipping column image_content because it's a binary field.\n",
      "\u001b[90m[\u001b[0m2025-07-23T08:02:53Z \u001b[33mWARN \u001b[0m deltalake_core::writer::stats\u001b[90m]\u001b[0m Skipping column image_content because it's a binary field.\n",
      "[2025-07-23 10:02:53][atria_datasets.core.dataset.atria_dataset][INFO] Saving dataset configuration to /mnt/hephaistos/.atria/datasets/cifar10/storage/conf/dataset/default.yaml\n",
      "[2025-07-23 10:02:53][atria_datasets.core.dataset.atria_dataset][INFO] Saving dataset metadata to /mnt/hephaistos/.atria/datasets/cifar10/storage/metadata.yaml\n",
      "[2025-07-23 10:02:53][atria_datasets.core.dataset.atria_dataset][INFO] Caching split [test] to /mnt/hephaistos/.atria/datasets/cifar10/storage\n",
      "[2025-07-23 10:02:54][atria_datasets.core.storage.deltalake_storage_manager][INFO] Preprocessing dataset split test to cached deltalake storage /mnt/hephaistos/.atria/datasets/cifar10/storage/default/delta/test\n",
      "Writing to Deltalake: 100%|██████████| 10000/10000 [00:04<00:00, 2107.44rows/s]\n",
      "\u001b[90m[\u001b[0m2025-07-23T08:03:00Z \u001b[33mWARN \u001b[0m deltalake_core::writer::stats\u001b[90m]\u001b[0m Skipping column image_content because it's a binary field.\n",
      "[2025-07-23 10:03:00][atria_datasets.core.dataset.atria_dataset][INFO] Saving dataset configuration to /mnt/hephaistos/.atria/datasets/cifar10/storage/conf/dataset/default.yaml\n",
      "[2025-07-23 10:03:00][atria_datasets.core.dataset.atria_dataset][INFO] Saving dataset metadata to /mnt/hephaistos/.atria/datasets/cifar10/storage/metadata.yaml\n"
     ]
    },
    {
     "ename": "TypeError",
     "evalue": "DeltalakeReader.__init__() got an unexpected keyword argument 'presign_expiry'",
     "output_type": "error",
     "traceback": [
      "\u001b[31m---------------------------------------------------------------------------\u001b[39m",
      "\u001b[31mTypeError\u001b[39m                                 Traceback (most recent call last)",
      "\u001b[36mCell\u001b[39m\u001b[36m \u001b[39m\u001b[32mIn[4]\u001b[39m\u001b[32m, line 5\u001b[39m\n\u001b[32m      1\u001b[39m \u001b[38;5;28;01mimport\u001b[39;00m\u001b[38;5;250m \u001b[39m\u001b[34;01mtqdm\u001b[39;00m\n\u001b[32m      3\u001b[39m \u001b[38;5;28;01mfrom\u001b[39;00m\u001b[38;5;250m \u001b[39m\u001b[34;01matria_datasets\u001b[39;00m\u001b[38;5;250m \u001b[39m\u001b[38;5;28;01mimport\u001b[39;00m AtriaDataset\n\u001b[32m----> \u001b[39m\u001b[32m5\u001b[39m dataset = \u001b[43mAtriaDataset\u001b[49m\u001b[43m.\u001b[49m\u001b[43mload_from_registry\u001b[49m\u001b[43m(\u001b[49m\u001b[43mname\u001b[49m\u001b[43m=\u001b[49m\u001b[33;43m\"\u001b[39;49m\u001b[33;43mcifar10\u001b[39;49m\u001b[33;43m\"\u001b[39;49m\u001b[43m)\u001b[49m\n\u001b[32m      6\u001b[39m indices = []\n\u001b[32m      7\u001b[39m \u001b[38;5;28;01mfor\u001b[39;00m sample \u001b[38;5;129;01min\u001b[39;00m tqdm.tqdm(dataset.train):\n",
      "\u001b[36mFile \u001b[39m\u001b[32m/mnt/hephaistos/projects/atria_agent/atria/atria_datasets/src/atria_datasets/core/dataset/atria_dataset.py:300\u001b[39m, in \u001b[36mAtriaDataset.load_from_registry\u001b[39m\u001b[34m(cls, name, config_name, data_dir, provider, preprocess_transform, shard_storage_type, access_token, dataset_load_mode, overwrite_existing_cached, overwrite_existing_shards, allowed_keys, num_processes, write_batch_size, build_kwargs, sharded_storage_kwargs)\u001b[39m\n\u001b[32m    291\u001b[39m config_name = config_name \u001b[38;5;129;01mor\u001b[39;00m \u001b[38;5;28mcls\u001b[39m.__default_config_name__\n\u001b[32m    293\u001b[39m dataset: AtriaDataset[T_BaseDataInstance] = DATASET.load_from_registry(\n\u001b[32m    294\u001b[39m     module_name=\u001b[33mf\u001b[39m\u001b[33m\"\u001b[39m\u001b[38;5;132;01m{\u001b[39;00mname\u001b[38;5;132;01m}\u001b[39;00m\u001b[33m/\u001b[39m\u001b[38;5;132;01m{\u001b[39;00mconfig_name\u001b[38;5;132;01m}\u001b[39;00m\u001b[33m\"\u001b[39m,\n\u001b[32m    295\u001b[39m     provider=provider,\n\u001b[32m    296\u001b[39m     return_config=\u001b[38;5;28;01mFalse\u001b[39;00m,\n\u001b[32m    297\u001b[39m     **build_kwargs,\n\u001b[32m    298\u001b[39m )\n\u001b[32m--> \u001b[39m\u001b[32m300\u001b[39m \u001b[43mdataset\u001b[49m\u001b[43m.\u001b[49m\u001b[43mbuild\u001b[49m\u001b[43m(\u001b[49m\n\u001b[32m    301\u001b[39m \u001b[43m    \u001b[49m\u001b[43mdata_dir\u001b[49m\u001b[43m=\u001b[49m\u001b[43mdata_dir\u001b[49m\u001b[43m \u001b[49m\u001b[38;5;129;43;01mor\u001b[39;49;00m\u001b[43m \u001b[49m\u001b[43m_DEFAULT_ATRIA_DATASETS_CACHE_DIR\u001b[49m\u001b[43m \u001b[49m\u001b[43m/\u001b[49m\u001b[43m \u001b[49m\u001b[43mdataset_name\u001b[49m\u001b[43m,\u001b[49m\n\u001b[32m    302\u001b[39m \u001b[43m    \u001b[49m\u001b[43mconfig_name\u001b[49m\u001b[43m=\u001b[49m\u001b[43mconfig_name\u001b[49m\u001b[43m,\u001b[49m\n\u001b[32m    303\u001b[39m \u001b[43m    \u001b[49m\u001b[43mpreprocess_transform\u001b[49m\u001b[43m=\u001b[49m\u001b[43mpreprocess_transform\u001b[49m\u001b[43m,\u001b[49m\n\u001b[32m    304\u001b[39m \u001b[43m    \u001b[49m\u001b[43mshard_storage_type\u001b[49m\u001b[43m=\u001b[49m\u001b[43mshard_storage_type\u001b[49m\u001b[43m,\u001b[49m\n\u001b[32m    305\u001b[39m \u001b[43m    \u001b[49m\u001b[43maccess_token\u001b[49m\u001b[43m=\u001b[49m\u001b[43maccess_token\u001b[49m\u001b[43m,\u001b[49m\n\u001b[32m    306\u001b[39m \u001b[43m    \u001b[49m\u001b[43moverwrite_existing_cached\u001b[49m\u001b[43m=\u001b[49m\u001b[43moverwrite_existing_cached\u001b[49m\u001b[43m,\u001b[49m\n\u001b[32m    307\u001b[39m \u001b[43m    \u001b[49m\u001b[43moverwrite_existing_shards\u001b[49m\u001b[43m=\u001b[49m\u001b[43moverwrite_existing_shards\u001b[49m\u001b[43m,\u001b[49m\n\u001b[32m    308\u001b[39m \u001b[43m    \u001b[49m\u001b[43mdataset_load_mode\u001b[49m\u001b[43m=\u001b[49m\u001b[43mdataset_load_mode\u001b[49m\u001b[43m,\u001b[49m\n\u001b[32m    309\u001b[39m \u001b[43m    \u001b[49m\u001b[43mallowed_keys\u001b[49m\u001b[43m=\u001b[49m\u001b[43mallowed_keys\u001b[49m\u001b[43m,\u001b[49m\n\u001b[32m    310\u001b[39m \u001b[43m    \u001b[49m\u001b[43mnum_processes\u001b[49m\u001b[43m=\u001b[49m\u001b[43mnum_processes\u001b[49m\u001b[43m,\u001b[49m\n\u001b[32m    311\u001b[39m \u001b[43m    \u001b[49m\u001b[43mwrite_batch_size\u001b[49m\u001b[43m=\u001b[49m\u001b[43mwrite_batch_size\u001b[49m\u001b[43m,\u001b[49m\n\u001b[32m    312\u001b[39m \u001b[43m    \u001b[49m\u001b[43m*\u001b[49m\u001b[43m*\u001b[49m\u001b[43m(\u001b[49m\u001b[43msharded_storage_kwargs\u001b[49m\u001b[43m \u001b[49m\u001b[38;5;129;43;01mor\u001b[39;49;00m\u001b[43m \u001b[49m\u001b[43m{\u001b[49m\u001b[43m}\u001b[49m\u001b[43m)\u001b[49m\u001b[43m,\u001b[49m\n\u001b[32m    313\u001b[39m \u001b[43m\u001b[49m\u001b[43m)\u001b[49m\n\u001b[32m    314\u001b[39m \u001b[38;5;28;01mreturn\u001b[39;00m dataset\n",
      "\u001b[36mFile \u001b[39m\u001b[32m/mnt/hephaistos/projects/atria_agent/atria/atria_datasets/src/atria_datasets/core/dataset/atria_dataset.py:365\u001b[39m, in \u001b[36mAtriaDataset.build\u001b[39m\u001b[34m(self, data_dir, config_name, runtime_transforms, preprocess_transform, access_token, dataset_load_mode, overwrite_existing_cached, overwrite_existing_shards, allowed_keys, num_processes, write_batch_size, enable_cached_splits, **sharded_storage_kwargs)\u001b[39m\n\u001b[32m    363\u001b[39m \u001b[38;5;66;03m# Prepare splits based on caching preference\u001b[39;00m\n\u001b[32m    364\u001b[39m \u001b[38;5;28;01mif\u001b[39;00m enable_cached_splits:\n\u001b[32m--> \u001b[39m\u001b[32m365\u001b[39m     \u001b[38;5;28;43mself\u001b[39;49m\u001b[43m.\u001b[49m\u001b[43m_prepare_cached_splits\u001b[49m\u001b[43m(\u001b[49m\n\u001b[32m    366\u001b[39m \u001b[43m        \u001b[49m\u001b[43maccess_token\u001b[49m\u001b[43m=\u001b[49m\u001b[43maccess_token\u001b[49m\u001b[43m,\u001b[49m\u001b[43m \u001b[49m\u001b[43moverwrite_existing\u001b[49m\u001b[43m=\u001b[49m\u001b[43moverwrite_existing_cached\u001b[49m\n\u001b[32m    367\u001b[39m \u001b[43m    \u001b[49m\u001b[43m)\u001b[49m\n\u001b[32m    368\u001b[39m \u001b[38;5;28;01melse\u001b[39;00m:\n\u001b[32m    369\u001b[39m     \u001b[38;5;66;03m# first prepare uncached splits\u001b[39;00m\n\u001b[32m    370\u001b[39m     \u001b[38;5;28mself\u001b[39m._prepare_splits(access_token=access_token)\n",
      "\u001b[36mFile \u001b[39m\u001b[32m/mnt/hephaistos/projects/atria_agent/atria/atria_datasets/src/atria_datasets/core/dataset/atria_dataset.py:707\u001b[39m, in \u001b[36mAtriaDataset._prepare_cached_splits\u001b[39m\u001b[34m(self, access_token, overwrite_existing)\u001b[39m\n\u001b[32m    702\u001b[39m         logger.info(\n\u001b[32m    703\u001b[39m             \u001b[33mf\u001b[39m\u001b[33m\"\u001b[39m\u001b[33mLoading cached split \u001b[39m\u001b[38;5;132;01m{\u001b[39;00msplit.value\u001b[38;5;132;01m}\u001b[39;00m\u001b[33m from \u001b[39m\u001b[38;5;132;01m{\u001b[39;00mstorage_manager.split_dir(split)\u001b[38;5;132;01m}\u001b[39;00m\u001b[33m\"\u001b[39m\n\u001b[32m    704\u001b[39m         )\n\u001b[32m    706\u001b[39m \u001b[38;5;28;01mfor\u001b[39;00m split \u001b[38;5;129;01min\u001b[39;00m \u001b[38;5;28mself\u001b[39m._available_splits():\n\u001b[32m--> \u001b[39m\u001b[32m707\u001b[39m     \u001b[38;5;28mself\u001b[39m._split_iterators[split] = \u001b[43mstorage_manager\u001b[49m\u001b[43m.\u001b[49m\u001b[43mread_split\u001b[49m\u001b[43m(\u001b[49m\n\u001b[32m    708\u001b[39m \u001b[43m        \u001b[49m\u001b[43msplit\u001b[49m\u001b[43m=\u001b[49m\u001b[43msplit\u001b[49m\u001b[43m,\u001b[49m\n\u001b[32m    709\u001b[39m \u001b[43m        \u001b[49m\u001b[43mdata_model\u001b[49m\u001b[43m=\u001b[49m\u001b[38;5;28;43mself\u001b[39;49m\u001b[43m.\u001b[49m\u001b[43mdata_model\u001b[49m\u001b[43m,\u001b[49m\n\u001b[32m    710\u001b[39m \u001b[43m        \u001b[49m\u001b[43mallowed_keys\u001b[49m\u001b[43m=\u001b[49m\u001b[38;5;28;43mself\u001b[39;49m\u001b[43m.\u001b[49m\u001b[43m_allowed_keys\u001b[49m\u001b[43m,\u001b[49m\n\u001b[32m    711\u001b[39m \u001b[43m        \u001b[49m\u001b[43mstreaming_mode\u001b[49m\u001b[43m=\u001b[49m\u001b[38;5;28;43mself\u001b[39;49m\u001b[43m.\u001b[49m\u001b[43m_dataset_load_mode\u001b[49m\n\u001b[32m    712\u001b[39m \u001b[43m        \u001b[49m\u001b[43m==\u001b[49m\u001b[43m \u001b[49m\u001b[43mDatasetLoadingMode\u001b[49m\u001b[43m.\u001b[49m\u001b[43mlocal_streaming\u001b[49m\u001b[43m,\u001b[49m\n\u001b[32m    713\u001b[39m \u001b[43m    \u001b[49m\u001b[43m)\u001b[49m\n",
      "\u001b[36mFile \u001b[39m\u001b[32m/mnt/hephaistos/projects/atria_agent/atria/atria_datasets/src/atria_datasets/core/storage/deltalake_storage_manager.py:160\u001b[39m, in \u001b[36mDeltalakeStorageManager.read_split\u001b[39m\u001b[34m(self, split, data_model, output_transform, allowed_keys, streaming_mode)\u001b[39m\n\u001b[32m    155\u001b[39m     allowed_keys.add(\u001b[33m\"\u001b[39m\u001b[33mindex\u001b[39m\u001b[33m\"\u001b[39m)\n\u001b[32m    156\u001b[39m     allowed_keys.add(\u001b[33m\"\u001b[39m\u001b[33msample_id\u001b[39m\u001b[33m\"\u001b[39m)\n\u001b[32m    158\u001b[39m \u001b[38;5;28;01mreturn\u001b[39;00m SplitIterator(\n\u001b[32m    159\u001b[39m     split=split,\n\u001b[32m--> \u001b[39m\u001b[32m160\u001b[39m     base_iterator=\u001b[43mDeltalakeReader\u001b[49m\u001b[43m.\u001b[49m\u001b[43mfrom_mode\u001b[49m\u001b[43m(\u001b[49m\n\u001b[32m    161\u001b[39m \u001b[43m        \u001b[49m\u001b[43mtable_path\u001b[49m\u001b[43m=\u001b[49m\u001b[38;5;28;43mstr\u001b[39;49m\u001b[43m(\u001b[49m\u001b[38;5;28;43mself\u001b[39;49m\u001b[43m.\u001b[49m\u001b[43msplit_dir\u001b[49m\u001b[43m(\u001b[49m\u001b[43msplit\u001b[49m\u001b[43m=\u001b[49m\u001b[43msplit\u001b[49m\u001b[43m)\u001b[49m\u001b[43m)\u001b[49m\u001b[43m,\u001b[49m\n\u001b[32m    162\u001b[39m \u001b[43m        \u001b[49m\u001b[43mstorage_dir\u001b[49m\u001b[43m=\u001b[49m\u001b[38;5;28;43mself\u001b[39;49m\u001b[43m.\u001b[49m\u001b[43m_storage_dir\u001b[49m\u001b[43m,\u001b[49m\n\u001b[32m    163\u001b[39m \u001b[43m        \u001b[49m\u001b[43mconfig_name\u001b[49m\u001b[43m=\u001b[49m\u001b[38;5;28;43mself\u001b[39;49m\u001b[43m.\u001b[49m\u001b[43m_config_name\u001b[49m\u001b[43m,\u001b[49m\n\u001b[32m    164\u001b[39m \u001b[43m        \u001b[49m\u001b[43mdata_model\u001b[49m\u001b[43m=\u001b[49m\u001b[43mdata_model\u001b[49m\u001b[43m,\u001b[49m\n\u001b[32m    165\u001b[39m \u001b[43m        \u001b[49m\u001b[43mmode\u001b[49m\u001b[43m=\u001b[49m\u001b[43mDatasetLoadingMode\u001b[49m\u001b[43m.\u001b[49m\u001b[43mlocal_streaming\u001b[49m\n\u001b[32m    166\u001b[39m \u001b[43m        \u001b[49m\u001b[38;5;28;43;01mif\u001b[39;49;00m\u001b[43m \u001b[49m\u001b[43mstreaming_mode\u001b[49m\n\u001b[32m    167\u001b[39m \u001b[43m        \u001b[49m\u001b[38;5;28;43;01melse\u001b[39;49;00m\u001b[43m \u001b[49m\u001b[43mDatasetLoadingMode\u001b[49m\u001b[43m.\u001b[49m\u001b[43min_memory\u001b[49m\u001b[43m,\u001b[49m\n\u001b[32m    168\u001b[39m \u001b[43m        \u001b[49m\u001b[43mallowed_keys\u001b[49m\u001b[43m=\u001b[49m\u001b[43mallowed_keys\u001b[49m\u001b[43m,\u001b[49m\n\u001b[32m    169\u001b[39m \u001b[43m    \u001b[49m\u001b[43m)\u001b[49m,\n\u001b[32m    170\u001b[39m     output_transform=output_transform,\n\u001b[32m    171\u001b[39m     data_model=data_model,\n\u001b[32m    172\u001b[39m )\n",
      "\u001b[36mFile \u001b[39m\u001b[32m/mnt/hephaistos/projects/atria_agent/atria/atria_datasets/src/atria_datasets/core/storage/deltalake_reader.py:53\u001b[39m, in \u001b[36mDeltalakeReader.from_mode\u001b[39m\u001b[34m(cls, mode, table_path, data_model, allowed_keys, storage_dir, config_name, storage_options, presign_expiry)\u001b[39m\n\u001b[32m     42\u001b[39m kwargs = {\n\u001b[32m     43\u001b[39m     \u001b[33m\"\u001b[39m\u001b[33mtable_path\u001b[39m\u001b[33m\"\u001b[39m: table_path,\n\u001b[32m     44\u001b[39m     \u001b[33m\"\u001b[39m\u001b[33mdata_model\u001b[39m\u001b[33m\"\u001b[39m: data_model,\n\u001b[32m   (...)\u001b[39m\u001b[32m     49\u001b[39m     \u001b[33m\"\u001b[39m\u001b[33mpresign_expiry\u001b[39m\u001b[33m\"\u001b[39m: presign_expiry,\n\u001b[32m     50\u001b[39m }\n\u001b[32m     52\u001b[39m \u001b[38;5;28;01mif\u001b[39;00m mode == DatasetLoadingMode.in_memory:\n\u001b[32m---> \u001b[39m\u001b[32m53\u001b[39m     \u001b[38;5;28;01mreturn\u001b[39;00m \u001b[43mInMemoryDeltalakeReader\u001b[49m\u001b[43m(\u001b[49m\u001b[43m*\u001b[49m\u001b[43m*\u001b[49m\u001b[43mkwargs\u001b[49m\u001b[43m)\u001b[49m\n\u001b[32m     54\u001b[39m \u001b[38;5;28;01melif\u001b[39;00m mode == DatasetLoadingMode.local_streaming:\n\u001b[32m     55\u001b[39m     \u001b[38;5;28;01mreturn\u001b[39;00m LocalDeltalakeReader(**kwargs)\n",
      "\u001b[36mFile \u001b[39m\u001b[32m/mnt/hephaistos/projects/atria_agent/atria/atria_datasets/src/atria_datasets/core/storage/deltalake_reader.py:89\u001b[39m, in \u001b[36mInMemoryDeltalakeReader.__init__\u001b[39m\u001b[34m(self, *args, **kwargs)\u001b[39m\n\u001b[32m     87\u001b[39m \u001b[38;5;28mself\u001b[39m.config_name = kwargs.pop(\u001b[33m\"\u001b[39m\u001b[33mconfig_name\u001b[39m\u001b[33m\"\u001b[39m, \u001b[38;5;28;01mNone\u001b[39;00m)\n\u001b[32m     88\u001b[39m \u001b[38;5;28mself\u001b[39m.storage_options = kwargs.pop(\u001b[33m\"\u001b[39m\u001b[33mstorage_options\u001b[39m\u001b[33m\"\u001b[39m, \u001b[38;5;28;01mNone\u001b[39;00m)\n\u001b[32m---> \u001b[39m\u001b[32m89\u001b[39m \u001b[38;5;28;43msuper\u001b[39;49m\u001b[43m(\u001b[49m\u001b[43m)\u001b[49m\u001b[43m.\u001b[49m\u001b[34;43m__init__\u001b[39;49m\u001b[43m(\u001b[49m\u001b[43m*\u001b[49m\u001b[43margs\u001b[49m\u001b[43m,\u001b[49m\u001b[43m \u001b[49m\u001b[43m*\u001b[49m\u001b[43m*\u001b[49m\u001b[43mkwargs\u001b[49m\u001b[43m)\u001b[49m\n\u001b[32m     90\u001b[39m \u001b[38;5;28mself\u001b[39m._df = DeltaTable(\n\u001b[32m     91\u001b[39m     \u001b[38;5;28mself\u001b[39m.path, storage_options=\u001b[38;5;28mself\u001b[39m.storage_options\n\u001b[32m     92\u001b[39m ).to_pandas()\n\u001b[32m     93\u001b[39m \u001b[38;5;28;01mif\u001b[39;00m \u001b[38;5;28mself\u001b[39m.allowed_keys:\n",
      "\u001b[31mTypeError\u001b[39m: DeltalakeReader.__init__() got an unexpected keyword argument 'presign_expiry'"
     ]
    }
   ],
   "source": [
    "import tqdm\n",
    "\n",
    "from atria_datasets import AtriaDataset\n",
    "\n",
    "dataset = AtriaDataset.load_from_registry(name=\"cifar10\")\n",
    "indices = []\n",
    "for sample in tqdm.tqdm(dataset.train):\n",
    "    indices.append(sample.index)"
   ]
  },
  {
   "cell_type": "code",
   "execution_count": null,
   "id": "a05af8da",
   "metadata": {},
   "outputs": [
    {
     "ename": "AttributeError",
     "evalue": "type object 'AtriaDataset' has no attribute 'load_from_hub'",
     "output_type": "error",
     "traceback": [
      "\u001b[31m---------------------------------------------------------------------------\u001b[39m",
      "\u001b[31mAttributeError\u001b[39m                            Traceback (most recent call last)",
      "\u001b[36mCell\u001b[39m\u001b[36m \u001b[39m\u001b[32mIn[14]\u001b[39m\u001b[32m, line 6\u001b[39m\n\u001b[32m      3\u001b[39m \u001b[38;5;28;01mimport\u001b[39;00m\u001b[38;5;250m \u001b[39m\u001b[34;01mtqdm\u001b[39;00m\n\u001b[32m      4\u001b[39m \u001b[38;5;28;01mfrom\u001b[39;00m\u001b[38;5;250m \u001b[39m\u001b[34;01matria_datasets\u001b[39;00m\u001b[38;5;250m \u001b[39m\u001b[38;5;28;01mimport\u001b[39;00m AtriaDataset\n\u001b[32m----> \u001b[39m\u001b[32m6\u001b[39m dataset = \u001b[43mAtriaDataset\u001b[49m\u001b[43m.\u001b[49m\u001b[43mload_from_hub\u001b[49m(\n\u001b[32m      7\u001b[39m     name=\u001b[33m\"\u001b[39m\u001b[33mmytestuser1/cifar10\u001b[39m\u001b[33m\"\u001b[39m,\n\u001b[32m      8\u001b[39m     config_name=\u001b[33m'\u001b[39m\u001b[33mdefault-0a8daedf\u001b[39m\u001b[33m'\u001b[39m,\n\u001b[32m      9\u001b[39m )\n\u001b[32m     10\u001b[39m \u001b[38;5;28mprint\u001b[39m(dataset)\n",
      "\u001b[31mAttributeError\u001b[39m: type object 'AtriaDataset' has no attribute 'load_from_hub'"
     ]
    }
   ],
   "source": [
    "import os\n",
    "\n",
    "import tqdm\n",
    "from atria_datasets import AtriaDataset\n",
    "\n",
    "dataset = AtriaDataset.load_from_hub(\n",
    "    name=\"mytestuser1/cifar10\",\n",
    "    config_name='default-0a8daedf',\n",
    ")\n",
    "print(dataset)"
   ]
  }
 ],
 "metadata": {
  "kernelspec": {
   "display_name": "atria-datasets",
   "language": "python",
   "name": "python3"
  },
  "language_info": {
   "codemirror_mode": {
    "name": "ipython",
    "version": 3
   },
   "file_extension": ".py",
   "mimetype": "text/x-python",
   "name": "python",
   "nbconvert_exporter": "python",
   "pygments_lexer": "ipython3",
   "version": "3.11.12"
  }
 },
 "nbformat": 4,
 "nbformat_minor": 5
}
